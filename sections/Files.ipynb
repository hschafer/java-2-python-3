{
 "cells": [
  {
   "cell_type": "markdown",
   "metadata": {},
   "source": [
    "# Read from a File"
   ]
  },
  {
   "cell_type": "markdown",
   "metadata": {},
   "source": [
    "Say we have a CSV file named `staff.csv` with the contents:"
   ]
  },
  {
   "cell_type": "raw",
   "metadata": {},
   "source": [
    "name,email,id\n",
    "Hunter,hschafer,42\n",
    "Dylan,dylanj7,79\n",
    "Joely,joelyn,80"
   ]
  },
  {
   "cell_type": "markdown",
   "metadata": {},
   "source": [
    "CSV files are like Excel spreadsheets in a readable form for programs. Each line is a row and the columns are separated by commas.\n",
    "\n",
    "To read this in and print to the console in Java you write\n",
    "```java\n",
    "import java.util.Scanner;\n",
    "import java.io.File;\n",
    "\n",
    "public class PrintStaff {\n",
    "    public static void main(String[] args) throws FileNotFoundException {\n",
    "        Scanner input = new Scanner(new File(\"staff.csv\"));\n",
    "        \n",
    "        input.nextLine(); // get rid of header row\n",
    "        \n",
    "        while (input.hasNextLine()) {\n",
    "            String line = input.nextLine();\n",
    "            String[] parts = line.split(\",\");\n",
    "            \n",
    "            System.out.println(\"name: \" + parts[0] + \", email: \" + parts[1] + \"@uw.edu\");\n",
    "        }\n",
    "    }\n",
    "}\n",
    "// Output:\n",
    "// Hunter: hschafer@uw.edu\n",
    "// Dylan: dylanj78@uw.edu\n",
    "// Jeoly: joelyn@uw.edu\n",
    "```\n",
    "In Python"
   ]
  },
  {
   "cell_type": "code",
   "execution_count": 1,
   "metadata": {},
   "outputs": [
    {
     "name": "stdout",
     "output_type": "stream",
     "text": [
      "Hunter: hschafer@uw.edu\n",
      "Dylan: dylanj7@uw.edu\n",
      "Joely: joelyn@uw.edu\n"
     ]
    }
   ],
   "source": [
    "# The second parameter 'r' says we are reading the file\n",
    "with open('staff.csv', 'r') as staff_file:\n",
    "    staff_file.readline() # get rid of header row\n",
    "    for line in staff_file.readlines():\n",
    "        parts = line.split(',')\n",
    "        print(parts[0] + ': ' + parts[1] + '@uw.edu')"
   ]
  },
  {
   "cell_type": "markdown",
   "metadata": {},
   "source": [
    "# Write to a File"
   ]
  },
  {
   "cell_type": "markdown",
   "metadata": {},
   "source": [
    "Say you want to write something to a file so you can save the output of your program later. In Java, there is a pretty different interface for writing to a file. \n",
    "\n",
    "\n",
    "```java\n",
    "// WriteStaff.java\n",
    "import java.io.File;\n",
    "import java.io.PrintStream;\n",
    "\n",
    "public class WriteStaff {\n",
    "    public static void main(String[] args) {\n",
    "        PrinstStream out = new PrintStream(new File(\"new_staff.csv\"));\n",
    "        out.println(\"name,email,id\");\n",
    "        out.println(\"Nicole,nriley16,56\");\n",
    "        out.println(\"Erik,ehoberg,93\");\n",
    "        out.println(\"Erika,eywolfe,105\");\n",
    "    }\n",
    "}\n",
    "```\n",
    "\n",
    "\n",
    "In Python"
   ]
  },
  {
   "cell_type": "code",
   "execution_count": 2,
   "metadata": {},
   "outputs": [],
   "source": [
    "def main():\n",
    "    # The scond parameter 'w' says we will write to a file\n",
    "    with open('new_staff.csv', 'w') as staff_file:\n",
    "        staff_file.write('name,email,id\\n')  # Annoying: You have to write the newline yourself\n",
    "        staff_file.write('Nicole,nriley16,56\\n');\n",
    "        staff_file.write('Erik,ehoberg,93\\n');\n",
    "        staff_file.write('Erika,eywolfe,105\\n');\n",
    "        \n",
    "        \n",
    "if __name__ == '__main__':\n",
    "    main()\n",
    "        "
   ]
  }
 ],
 "metadata": {
  "kernelspec": {
   "display_name": "Python 3",
   "language": "python",
   "name": "python3"
  },
  "language_info": {
   "codemirror_mode": {
    "name": "ipython",
    "version": 3
   },
   "file_extension": ".py",
   "mimetype": "text/x-python",
   "name": "python",
   "nbconvert_exporter": "python",
   "pygments_lexer": "ipython3",
   "version": "3.7.1"
  }
 },
 "nbformat": 4,
 "nbformat_minor": 2
}
